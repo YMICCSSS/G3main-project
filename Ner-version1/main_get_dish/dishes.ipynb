{
  "nbformat": 4,
  "nbformat_minor": 0,
  "metadata": {
    "colab": {
      "name": "dishes.ipynb",
      "provenance": [],
      "collapsed_sections": []
    },
    "kernelspec": {
      "name": "python3",
      "display_name": "Python 3"
    }
  },
  "cells": [
    {
      "cell_type": "code",
      "metadata": {
        "id": "A0nGWX0V6hLb",
        "colab_type": "code",
        "colab": {}
      },
      "source": [
        "! pip install kashgari\n",
        "! pip install pandas\n",
        "! pip install tensorflow==1.15.0"
      ],
      "execution_count": 0,
      "outputs": []
    },
    {
      "cell_type": "code",
      "metadata": {
        "id": "Gx-Dz8jQz31j",
        "colab_type": "code",
        "colab": {
          "base_uri": "https://localhost:8080/",
          "height": 193
        },
        "outputId": "7062b93c-e876-491d-ceae-016026c5e5b9"
      },
      "source": [
        "\n",
        "\n",
        "\n",
        "#請載資料夾內的rbt3_model模型並解壓縮，才能用這個預測菜名的模型\n",
        "\n",
        "import pandas as pd\n",
        "import kashgari\n",
        "import re\n",
        "\n",
        "\n",
        "#使用這個目錄下的模型\n",
        "model_path = \n",
        "loaded_model = kashgari.utils.load_model(model_path+'\\rbt3_model')\n",
        "\n",
        "#定義類別(要用裡面的Get方法才能唷~~)\n",
        "class Get_dishes:\n",
        "\n",
        "    global loaded_model\n",
        "\n",
        "    def __init__(self,df):\n",
        "        self.D = df\n",
        "\n",
        "    def cut_text(self,text, lenth):\n",
        "        textArr = re.findall('.{' + str(lenth) + '}', text)\n",
        "        textArr.append(text[(len(textArr) * lenth):])\n",
        "        return textArr\n",
        "\n",
        "\n",
        "    def extract_labels(self,text, ners):\n",
        "        ner_reg_list = []\n",
        "        if ners:\n",
        "            new_ners = []\n",
        "            for ner in ners:\n",
        "                new_ners += ner;\n",
        "            for word, tag in zip([char for char in text], new_ners):\n",
        "                if tag != 'O':\n",
        "                    ner_reg_list.append((word, tag))\n",
        "\n",
        "        # 輸出模型的NER识别结果\n",
        "        labels = {}\n",
        "        if ner_reg_list:\n",
        "            for i, item in enumerate(ner_reg_list):\n",
        "                if item[1].startswith('B'):\n",
        "                    label = \"\"\n",
        "                    end = i + 1\n",
        "                    while end <= len(ner_reg_list) - 1 and ner_reg_list[end][1].startswith('I'):\n",
        "                        end += 1\n",
        "\n",
        "                    ner_type = item[1].split('-')[1]\n",
        "                    if ner_type not in labels.keys():\n",
        "                        labels[ner_type] = []\n",
        "\n",
        "                    label += ''.join([item[0] for item in ner_reg_list[i:end]])\n",
        "                    labels[ner_type].append(label)\n",
        "\n",
        "        return labels\n",
        "\n",
        "    #建立一個能讓dataframe中的評論欄位,能預測菜單的函式\n",
        "    def get_name(self,sentence):\n",
        "\n",
        "        text_1 = self.cut_text(sentence, 100)\n",
        "        ners = loaded_model.predict([[char for char in text] for text in text_1])\n",
        "        labels = self.extract_labels(sentence, ners)\n",
        "        x = labels.get(\"1\",\"\")\n",
        "        return \",\".join(x)\n",
        "\n",
        "    #修改dish欄位，放入預測的菜單\n",
        "    def Get(self):\n",
        "        self.D[\"dish\"] = self.D[\"text\"].apply(self.get_name)\n",
        "        return self.D"
      ],
      "execution_count": 3,
      "outputs": [
        {
          "output_type": "stream",
          "text": [
            "WARNING:root:Sequence length will auto set at 95% of sequence length\n",
            "/usr/local/lib/python3.6/dist-packages/bert4keras/__init__.py:22: UserWarning: bert4keras.bert has been renamed as bert4keras.models.\n",
            "  warnings.warn('bert4keras.bert has been renamed as bert4keras.models.')\n",
            "/usr/local/lib/python3.6/dist-packages/bert4keras/__init__.py:23: UserWarning: please use bert4keras.models.\n",
            "  warnings.warn('please use bert4keras.models.')\n",
            "/usr/local/lib/python3.6/dist-packages/bert4keras/__init__.py:44: UserWarning: bert4keras.tokenizer has been renamed as bert4keras.tokenizers.\n",
            "  warnings.warn('bert4keras.tokenizer has been renamed as bert4keras.tokenizers.')\n",
            "/usr/local/lib/python3.6/dist-packages/bert4keras/__init__.py:45: UserWarning: please use bert4keras.tokenizers.\n",
            "  warnings.warn('please use bert4keras.tokenizers.')\n"
          ],
          "name": "stderr"
        }
      ]
    }
  ]
}